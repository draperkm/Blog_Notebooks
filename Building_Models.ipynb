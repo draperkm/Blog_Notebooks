{
 "cells": [
  {
   "cell_type": "markdown",
   "id": "93b65f70",
   "metadata": {},
   "source": [
    "# Building Neural Networks in PyTorch"
   ]
  },
  {
   "cell_type": "markdown",
   "id": "65313f0a",
   "metadata": {},
   "source": [
    "We will discuss how to build a machine learning algorithm with PyTorch, mainly focusing on two main classes:\n",
    "\n",
    "- `torch.nn.Module`\n",
    "- `torch.nn.Parameter`\n",
    "\n",
    "These two classes contains the methods to call different types of layers and the parameters from these layers. The `torch.nn.Parameter` is a sub-class of the torch.Tensor class and registers the parameters in the objects of the Module class. The two classes, work together and make possible the building of a model. By observing the example below we can notice that models are built in two main phases:\n",
    "\n",
    "- defining the type and the sequence of the layers (`init` method)\n",
    "- defining how the output of each layer is fed forward across the network (`forward` method)\n",
    "\n",
    "In the following example we will build a model by defining a class calles `Example_Model`, and we will implement 2 fully connected layers, the first followed by a ReLU activation function, and the second one from a Softmax function by using the `init` method. The `forward` method will also be defined to establish how the output of each layer will flow through the network.\n",
    "\n",
    "\n",
    "\n",
    "\n"
   ]
  },
  {
   "cell_type": "code",
   "execution_count": 1,
   "id": "cff5444b",
   "metadata": {},
   "outputs": [
    {
     "name": "stderr",
     "output_type": "stream",
     "text": [
      "/Users/jeancharles/miniforge3/lib/python3.9/site-packages/tqdm/auto.py:22: TqdmWarning: IProgress not found. Please update jupyter and ipywidgets. See https://ipywidgets.readthedocs.io/en/stable/user_install.html\n",
      "  from .autonotebook import tqdm as notebook_tqdm\n"
     ]
    }
   ],
   "source": [
    "import torch\n",
    "\n",
    "class Example_Model(torch.nn.Module):\n",
    "\n",
    "    def __init__(self):\n",
    "        super(Example_Model, self).__init__()\n",
    "\n",
    "        self.linear1 = torch.nn.Linear(5, 10) # (5 in features, 10 out features)\n",
    "        self.activation = torch.nn.ReLU()\n",
    "        self.linear2 = torch.nn.Linear(10, 5) # (10 in features, 5 out features)\n",
    "        self.softmax = torch.nn.Softmax()\n",
    "\n",
    "    def forward(self, x):\n",
    "        x = self.linear1(x)\n",
    "        x = self.activation(x)\n",
    "        x = self.linear2(x)\n",
    "        x = self.softmax(x)\n",
    "        return x\n",
    "\n",
    "dummy_model = Example_Model()"
   ]
  },
  {
   "cell_type": "markdown",
   "id": "a5144503",
   "metadata": {},
   "source": [
    "We can print the model just by calling the instance `dummy_model` that we created:"
   ]
  },
  {
   "cell_type": "code",
   "execution_count": 2,
   "id": "48e7e905",
   "metadata": {},
   "outputs": [
    {
     "name": "stdout",
     "output_type": "stream",
     "text": [
      "Example_Model(\n",
      "  (linear1): Linear(in_features=5, out_features=10, bias=True)\n",
      "  (activation): ReLU()\n",
      "  (linear2): Linear(in_features=10, out_features=5, bias=True)\n",
      "  (softmax): Softmax(dim=None)\n",
      ")\n"
     ]
    }
   ],
   "source": [
    "print(dummy_model)"
   ]
  },
  {
   "cell_type": "code",
   "execution_count": 11,
   "id": "4b96daa1",
   "metadata": {},
   "outputs": [
    {
     "name": "stdout",
     "output_type": "stream",
     "text": [
      "=================================================================\n",
      "Layer (type:depth-idx)                   Param #\n",
      "=================================================================\n",
      "├─Linear: 1-1                            60\n",
      "├─ReLU: 1-2                              --\n",
      "├─Linear: 1-3                            55\n",
      "├─Softmax: 1-4                           --\n",
      "=================================================================\n",
      "Total params: 115\n",
      "Trainable params: 115\n",
      "Non-trainable params: 0\n",
      "=================================================================\n"
     ]
    },
    {
     "data": {
      "text/plain": [
       "=================================================================\n",
       "Layer (type:depth-idx)                   Param #\n",
       "=================================================================\n",
       "├─Linear: 1-1                            60\n",
       "├─ReLU: 1-2                              --\n",
       "├─Linear: 1-3                            55\n",
       "├─Softmax: 1-4                           --\n",
       "=================================================================\n",
       "Total params: 115\n",
       "Trainable params: 115\n",
       "Non-trainable params: 0\n",
       "================================================================="
      ]
     },
     "execution_count": 11,
     "metadata": {},
     "output_type": "execute_result"
    }
   ],
   "source": [
    "from torchsummary import summary\n",
    "\n",
    "summary(dummy_model)"
   ]
  },
  {
   "cell_type": "markdown",
   "id": "a80471fb",
   "metadata": {},
   "source": [
    "We can print the details of a specific layer by calling the specific layer:"
   ]
  },
  {
   "cell_type": "code",
   "execution_count": 36,
   "id": "1f111ec3",
   "metadata": {},
   "outputs": [
    {
     "name": "stdout",
     "output_type": "stream",
     "text": [
      "Linear(in_features=10, out_features=5, bias=True)\n"
     ]
    }
   ],
   "source": [
    "print(dummy_model.linear2)"
   ]
  },
  {
   "cell_type": "markdown",
   "id": "fa719708",
   "metadata": {},
   "source": [
    "We can print the parameters of the whole model, and we will have respectely a \n",
    "\n",
    "- 5x10 weight matrix for the first layer\n",
    "- 10 bias parameters from the 1st layer\n",
    "- 10x5 weight matrix for the first layer\n",
    "- 5 bias parameters from the 1st layer"
   ]
  },
  {
   "cell_type": "code",
   "execution_count": 35,
   "id": "44272013",
   "metadata": {},
   "outputs": [
    {
     "name": "stdout",
     "output_type": "stream",
     "text": [
      "Parameter containing:\n",
      "tensor([[ 0.2425, -0.0518,  0.2428,  0.3637,  0.1235],\n",
      "        [ 0.3232,  0.0940, -0.2151,  0.1606, -0.3963],\n",
      "        [ 0.1729, -0.1239, -0.1306,  0.0218, -0.3682],\n",
      "        [-0.1481, -0.2419,  0.2261,  0.2547, -0.4250],\n",
      "        [-0.2309,  0.2802,  0.2447, -0.0481,  0.3517],\n",
      "        [-0.0960,  0.4341,  0.3808, -0.1070,  0.1520],\n",
      "        [ 0.2868, -0.4020,  0.1665, -0.2042,  0.2753],\n",
      "        [ 0.1949, -0.3306, -0.1487,  0.3389, -0.1585],\n",
      "        [-0.1870, -0.1361,  0.1372, -0.0092,  0.1107],\n",
      "        [-0.0904, -0.0931,  0.1237,  0.2062, -0.2834]], requires_grad=True)\n",
      "Parameter containing:\n",
      "tensor([ 0.4161,  0.3360,  0.3570, -0.1723,  0.0327, -0.0217, -0.0882, -0.0824,\n",
      "         0.0516, -0.1008], requires_grad=True)\n",
      "Parameter containing:\n",
      "tensor([[ 0.1387, -0.1030,  0.1031, -0.1182, -0.1140,  0.2976, -0.0084,  0.0843,\n",
      "          0.2238,  0.0408],\n",
      "        [-0.1646,  0.0479,  0.1498, -0.0500,  0.1570,  0.0857,  0.2209, -0.0100,\n",
      "          0.1949,  0.1191],\n",
      "        [-0.1416, -0.2367, -0.2072, -0.0462,  0.0670,  0.0265, -0.0257, -0.2176,\n",
      "          0.2269, -0.1983],\n",
      "        [ 0.0040,  0.1385,  0.0914, -0.2275, -0.1346, -0.0841, -0.2890, -0.2638,\n",
      "         -0.0749,  0.1757],\n",
      "        [-0.0679, -0.0231, -0.1748, -0.0177,  0.0334,  0.3104, -0.3142, -0.2812,\n",
      "         -0.1555, -0.1290]], requires_grad=True)\n",
      "Parameter containing:\n",
      "tensor([ 0.1831, -0.2066, -0.3030, -0.1717,  0.2589], requires_grad=True)\n"
     ]
    }
   ],
   "source": [
    "for param in dummy_model.parameters():\n",
    "    print(param)"
   ]
  },
  {
   "cell_type": "markdown",
   "id": "928af705",
   "metadata": {},
   "source": [
    "We can print the parameters from a specific layer of our choice:"
   ]
  },
  {
   "cell_type": "code",
   "execution_count": 34,
   "id": "8fc8f8e3",
   "metadata": {},
   "outputs": [
    {
     "name": "stdout",
     "output_type": "stream",
     "text": [
      "Parameter containing:\n",
      "tensor([[ 0.1387, -0.1030,  0.1031, -0.1182, -0.1140,  0.2976, -0.0084,  0.0843,\n",
      "          0.2238,  0.0408],\n",
      "        [-0.1646,  0.0479,  0.1498, -0.0500,  0.1570,  0.0857,  0.2209, -0.0100,\n",
      "          0.1949,  0.1191],\n",
      "        [-0.1416, -0.2367, -0.2072, -0.0462,  0.0670,  0.0265, -0.0257, -0.2176,\n",
      "          0.2269, -0.1983],\n",
      "        [ 0.0040,  0.1385,  0.0914, -0.2275, -0.1346, -0.0841, -0.2890, -0.2638,\n",
      "         -0.0749,  0.1757],\n",
      "        [-0.0679, -0.0231, -0.1748, -0.0177,  0.0334,  0.3104, -0.3142, -0.2812,\n",
      "         -0.1555, -0.1290]], requires_grad=True)\n",
      "Parameter containing:\n",
      "tensor([ 0.1831, -0.2066, -0.3030, -0.1717,  0.2589], requires_grad=True)\n"
     ]
    }
   ],
   "source": [
    "for param in dummy_model.linear2.parameters():\n",
    "    print(param)"
   ]
  }
 ],
 "metadata": {
  "kernelspec": {
   "display_name": "venv1",
   "language": "python",
   "name": "venv1"
  },
  "language_info": {
   "codemirror_mode": {
    "name": "ipython",
    "version": 3
   },
   "file_extension": ".py",
   "mimetype": "text/x-python",
   "name": "python",
   "nbconvert_exporter": "python",
   "pygments_lexer": "ipython3",
   "version": "3.9.10"
  }
 },
 "nbformat": 4,
 "nbformat_minor": 5
}

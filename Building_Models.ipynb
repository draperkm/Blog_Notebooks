{
 "cells": [
  {
   "cell_type": "markdown",
   "id": "93b65f70",
   "metadata": {},
   "source": [
    "# Building Neural Networks in PyTorch"
   ]
  },
  {
   "cell_type": "markdown",
   "id": "65313f0a",
   "metadata": {},
   "source": [
    "We will discuss how to build a machine learning algorithm with PyTorch, mainly focusing on two main classes:\n",
    "\n",
    "- `torch.nn.Module`\n",
    "- `torch.nn.Parameter`\n",
    "\n",
    "These two classes contains the methods to call different types of layers and the parameters from these layers. The `torch.nn.Parameter` is a sub-class of the torch.Tensor class and registers the parameters in the objects of the Module class. The two classes, work together and make possible the building of a model. By observing the example below we can notice that models are built in two main phases:\n",
    "\n",
    "- defining the type and the sequence of the layers (`init` method)\n",
    "- defining how the output of each layer is fed forward across the network (`forward` method)\n",
    "\n",
    "In the following example we will build a model by defining a class calles `Example_Model`, and we will implement 2 fully connected layers, the first followed by a ReLU activation function, and the second one from a Softmax function by using the `init` method. The `forward` method will also be defined to establish how the output of each layer will flow through the network.\n",
    "\n",
    "\n",
    "\n",
    "\n"
   ]
  },
  {
   "cell_type": "code",
   "execution_count": 1,
   "id": "378a6d17",
   "metadata": {},
   "outputs": [],
   "source": [
    "import warnings\n",
    "warnings.filterwarnings(\"ignore\")"
   ]
  },
  {
   "cell_type": "code",
   "execution_count": 2,
   "id": "cff5444b",
   "metadata": {},
   "outputs": [],
   "source": [
    "import torch\n",
    "\n",
    "class Example_Model(torch.nn.Module):\n",
    "\n",
    "    def __init__(self):\n",
    "        super(Example_Model, self).__init__()\n",
    "\n",
    "        self.linear1 = torch.nn.Linear(5, 10) # (5 in features, 10 out features)\n",
    "        self.activation = torch.nn.ReLU()\n",
    "        self.linear2 = torch.nn.Linear(10, 5) # (10 in features, 5 out features)\n",
    "        self.softmax = torch.nn.Softmax()\n",
    "\n",
    "    def forward(self, x):\n",
    "        x = self.linear1(x)\n",
    "        x = self.activation(x)\n",
    "        x = self.linear2(x)\n",
    "        x = self.softmax(x)\n",
    "        return x\n",
    "\n",
    "dummy_model = Example_Model()"
   ]
  },
  {
   "cell_type": "markdown",
   "id": "a5144503",
   "metadata": {},
   "source": [
    "We can print the model just by calling the instance `dummy_model` that we created:"
   ]
  },
  {
   "cell_type": "code",
   "execution_count": 3,
   "id": "48e7e905",
   "metadata": {},
   "outputs": [
    {
     "name": "stdout",
     "output_type": "stream",
     "text": [
      "Example_Model(\n",
      "  (linear1): Linear(in_features=5, out_features=10, bias=True)\n",
      "  (activation): ReLU()\n",
      "  (linear2): Linear(in_features=10, out_features=5, bias=True)\n",
      "  (softmax): Softmax(dim=None)\n",
      ")\n"
     ]
    }
   ],
   "source": [
    "print(dummy_model)"
   ]
  },
  {
   "cell_type": "code",
   "execution_count": 4,
   "id": "a511809f",
   "metadata": {},
   "outputs": [
    {
     "name": "stdout",
     "output_type": "stream",
     "text": [
      "=================================================================\n",
      "Layer (type:depth-idx)                   Param #\n",
      "=================================================================\n",
      "├─Linear: 1-1                            60\n",
      "├─ReLU: 1-2                              --\n",
      "├─Linear: 1-3                            55\n",
      "├─Softmax: 1-4                           --\n",
      "=================================================================\n",
      "Total params: 115\n",
      "Trainable params: 115\n",
      "Non-trainable params: 0\n",
      "=================================================================\n"
     ]
    },
    {
     "data": {
      "text/plain": [
       "=================================================================\n",
       "Layer (type:depth-idx)                   Param #\n",
       "=================================================================\n",
       "├─Linear: 1-1                            60\n",
       "├─ReLU: 1-2                              --\n",
       "├─Linear: 1-3                            55\n",
       "├─Softmax: 1-4                           --\n",
       "=================================================================\n",
       "Total params: 115\n",
       "Trainable params: 115\n",
       "Non-trainable params: 0\n",
       "================================================================="
      ]
     },
     "execution_count": 4,
     "metadata": {},
     "output_type": "execute_result"
    }
   ],
   "source": [
    "from torchsummary import summary\n",
    "\n",
    "summary(dummy_model)"
   ]
  },
  {
   "cell_type": "markdown",
   "id": "a80471fb",
   "metadata": {},
   "source": [
    "We can print the details of a specific layer by calling the specific layer:"
   ]
  },
  {
   "cell_type": "code",
   "execution_count": 5,
   "id": "1f111ec3",
   "metadata": {},
   "outputs": [
    {
     "name": "stdout",
     "output_type": "stream",
     "text": [
      "Linear(in_features=10, out_features=5, bias=True)\n"
     ]
    }
   ],
   "source": [
    "print(dummy_model.linear2)"
   ]
  },
  {
   "cell_type": "markdown",
   "id": "fa719708",
   "metadata": {},
   "source": [
    "We can print the parameters of the whole model, and we will have respectely a \n",
    "\n",
    "- 5x10 weight matrix for the first layer\n",
    "- 10 bias parameters from the 1st layer\n",
    "- 10x5 weight matrix for the first layer\n",
    "- 5 bias parameters from the 1st layer"
   ]
  },
  {
   "cell_type": "code",
   "execution_count": 6,
   "id": "44272013",
   "metadata": {},
   "outputs": [
    {
     "name": "stdout",
     "output_type": "stream",
     "text": [
      "Parameter containing:\n",
      "tensor([[ 0.3265,  0.0876, -0.2340, -0.1507, -0.2088],\n",
      "        [-0.3483, -0.2962,  0.3250, -0.2340,  0.0179],\n",
      "        [-0.1287, -0.0097,  0.4376,  0.1406,  0.3173],\n",
      "        [ 0.1721,  0.1175,  0.0562, -0.0301,  0.2803],\n",
      "        [-0.0160,  0.1330, -0.2040, -0.2861, -0.1951],\n",
      "        [ 0.3858, -0.4261, -0.0258,  0.0161, -0.3093],\n",
      "        [-0.2284,  0.2183,  0.0424, -0.3168, -0.1888],\n",
      "        [ 0.2205,  0.2653,  0.1024,  0.0023, -0.2518],\n",
      "        [ 0.1119,  0.4154, -0.0807, -0.0566,  0.3123],\n",
      "        [-0.3263,  0.0473, -0.3313,  0.3113, -0.1327]], requires_grad=True)\n",
      "Parameter containing:\n",
      "tensor([ 0.3164, -0.1308, -0.0712,  0.1400,  0.0017, -0.1389,  0.3883, -0.2497,\n",
      "         0.3083,  0.3729], requires_grad=True)\n",
      "Parameter containing:\n",
      "tensor([[ 0.2305,  0.0232, -0.2082,  0.2474, -0.2128, -0.0692, -0.2093,  0.2320,\n",
      "          0.2549, -0.2258],\n",
      "        [-0.0389, -0.0073, -0.2676, -0.0863, -0.1706, -0.0307,  0.0819,  0.1069,\n",
      "          0.1141, -0.1011],\n",
      "        [ 0.1174, -0.1820, -0.3103,  0.0081, -0.1000,  0.2045,  0.1277,  0.2375,\n",
      "          0.1232,  0.0685],\n",
      "        [-0.1838,  0.2427,  0.1553,  0.3095,  0.0345,  0.2310, -0.1493,  0.2479,\n",
      "         -0.1499,  0.0968],\n",
      "        [ 0.2249, -0.2928, -0.2919,  0.0759,  0.0650,  0.3080, -0.2481, -0.2310,\n",
      "         -0.0951,  0.0938]], requires_grad=True)\n",
      "Parameter containing:\n",
      "tensor([-0.1397,  0.1226,  0.1450, -0.0347, -0.2238], requires_grad=True)\n"
     ]
    }
   ],
   "source": [
    "for param in dummy_model.parameters():\n",
    "    print(param)"
   ]
  },
  {
   "cell_type": "markdown",
   "id": "928af705",
   "metadata": {},
   "source": [
    "We can print the parameters from a specific layer of our choice:"
   ]
  },
  {
   "cell_type": "code",
   "execution_count": 7,
   "id": "8fc8f8e3",
   "metadata": {},
   "outputs": [
    {
     "name": "stdout",
     "output_type": "stream",
     "text": [
      "Parameter containing:\n",
      "tensor([[ 0.2305,  0.0232, -0.2082,  0.2474, -0.2128, -0.0692, -0.2093,  0.2320,\n",
      "          0.2549, -0.2258],\n",
      "        [-0.0389, -0.0073, -0.2676, -0.0863, -0.1706, -0.0307,  0.0819,  0.1069,\n",
      "          0.1141, -0.1011],\n",
      "        [ 0.1174, -0.1820, -0.3103,  0.0081, -0.1000,  0.2045,  0.1277,  0.2375,\n",
      "          0.1232,  0.0685],\n",
      "        [-0.1838,  0.2427,  0.1553,  0.3095,  0.0345,  0.2310, -0.1493,  0.2479,\n",
      "         -0.1499,  0.0968],\n",
      "        [ 0.2249, -0.2928, -0.2919,  0.0759,  0.0650,  0.3080, -0.2481, -0.2310,\n",
      "         -0.0951,  0.0938]], requires_grad=True)\n",
      "Parameter containing:\n",
      "tensor([-0.1397,  0.1226,  0.1450, -0.0347, -0.2238], requires_grad=True)\n"
     ]
    }
   ],
   "source": [
    "for param in dummy_model.linear2.parameters():\n",
    "    print(param)"
   ]
  }
 ],
 "metadata": {
  "kernelspec": {
   "display_name": "venv1",
   "language": "python",
   "name": "venv1"
  },
  "language_info": {
   "codemirror_mode": {
    "name": "ipython",
    "version": 3
   },
   "file_extension": ".py",
   "mimetype": "text/x-python",
   "name": "python",
   "nbconvert_exporter": "python",
   "pygments_lexer": "ipython3",
   "version": "3.9.10"
  }
 },
 "nbformat": 4,
 "nbformat_minor": 5
}
